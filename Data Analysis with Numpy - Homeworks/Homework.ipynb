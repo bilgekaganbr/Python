{
 "cells": [
  {
   "cell_type": "code",
   "execution_count": 2,
   "id": "fe8709b5",
   "metadata": {},
   "outputs": [],
   "source": [
    "import numpy as np # Import numpy"
   ]
  },
  {
   "cell_type": "code",
   "execution_count": 7,
   "id": "104ede31",
   "metadata": {},
   "outputs": [],
   "source": [
    "arrayOfOnes = np.ones(5)"
   ]
  },
  {
   "cell_type": "code",
   "execution_count": 8,
   "id": "fb9dc937",
   "metadata": {},
   "outputs": [
    {
     "data": {
      "text/plain": [
       "array([1., 1., 1., 1., 1.])"
      ]
     },
     "execution_count": 8,
     "metadata": {},
     "output_type": "execute_result"
    }
   ],
   "source": [
    "arrayOfOnes # An array of 5 1s"
   ]
  },
  {
   "cell_type": "code",
   "execution_count": 11,
   "id": "aa1fd311",
   "metadata": {},
   "outputs": [],
   "source": [
    "arrayOfZeros = np.zeros(5)"
   ]
  },
  {
   "cell_type": "code",
   "execution_count": 12,
   "id": "a4022869",
   "metadata": {},
   "outputs": [
    {
     "data": {
      "text/plain": [
       "array([0., 0., 0., 0., 0.])"
      ]
     },
     "execution_count": 12,
     "metadata": {},
     "output_type": "execute_result"
    }
   ],
   "source": [
    "arrayOfZeros # An array of 5 0s"
   ]
  },
  {
   "cell_type": "code",
   "execution_count": 13,
   "id": "3e1d375a",
   "metadata": {},
   "outputs": [],
   "source": [
    "arrayOfEvens = np.arange(2,100,2)"
   ]
  },
  {
   "cell_type": "code",
   "execution_count": 14,
   "id": "04410044",
   "metadata": {},
   "outputs": [
    {
     "data": {
      "text/plain": [
       "array([ 2,  4,  6,  8, 10, 12, 14, 16, 18, 20, 22, 24, 26, 28, 30, 32, 34,\n",
       "       36, 38, 40, 42, 44, 46, 48, 50, 52, 54, 56, 58, 60, 62, 64, 66, 68,\n",
       "       70, 72, 74, 76, 78, 80, 82, 84, 86, 88, 90, 92, 94, 96, 98])"
      ]
     },
     "execution_count": 14,
     "metadata": {},
     "output_type": "execute_result"
    }
   ],
   "source": [
    "arrayOfEvens # An array of even numbers between 2 and 100"
   ]
  },
  {
   "cell_type": "code",
   "execution_count": 18,
   "id": "11c63f12",
   "metadata": {},
   "outputs": [],
   "source": [
    "arrayOfTens = np.ones(5) * 10"
   ]
  },
  {
   "cell_type": "code",
   "execution_count": 19,
   "id": "4bdfd1d1",
   "metadata": {},
   "outputs": [
    {
     "data": {
      "text/plain": [
       "array([10., 10., 10., 10., 10.])"
      ]
     },
     "execution_count": 19,
     "metadata": {},
     "output_type": "execute_result"
    }
   ],
   "source": [
    "arrayOfTens # An array of 5 10s"
   ]
  },
  {
   "cell_type": "code",
   "execution_count": 21,
   "id": "d946ffd5",
   "metadata": {},
   "outputs": [
    {
     "data": {
      "text/plain": [
       "array([[ 1,  2,  3,  4],\n",
       "       [ 5,  6,  7,  8],\n",
       "       [ 9, 10, 11, 12],\n",
       "       [13, 14, 15, 16]])"
      ]
     },
     "execution_count": 21,
     "metadata": {},
     "output_type": "execute_result"
    }
   ],
   "source": [
    "array1 = np.arange(1,17)\n",
    "array1 = array1.reshape(4,4)\n",
    "array1 # A 4x4 matrix of numbers from 1 to 16"
   ]
  },
  {
   "cell_type": "code",
   "execution_count": 22,
   "id": "2d741771",
   "metadata": {},
   "outputs": [
    {
     "data": {
      "text/plain": [
       "array([[1., 0., 0., 0.],\n",
       "       [0., 1., 0., 0.],\n",
       "       [0., 0., 1., 0.],\n",
       "       [0., 0., 0., 1.]])"
      ]
     },
     "execution_count": 22,
     "metadata": {},
     "output_type": "execute_result"
    }
   ],
   "source": [
    "array2 = np.eye(4)\n",
    "array2 # 4x4 unit matrix"
   ]
  },
  {
   "cell_type": "code",
   "execution_count": 28,
   "id": "e6a177f5",
   "metadata": {},
   "outputs": [
    {
     "data": {
      "text/plain": [
       "4"
      ]
     },
     "execution_count": 28,
     "metadata": {},
     "output_type": "execute_result"
    }
   ],
   "source": [
    "number1 = np.random.randint(5)\n",
    "number1"
   ]
  },
  {
   "cell_type": "code",
   "execution_count": 32,
   "id": "b2e10a5d",
   "metadata": {},
   "outputs": [
    {
     "data": {
      "text/plain": [
       "array([[ 1.32025796,  0.09543299, -0.61061419,  0.18344912, -0.68719305],\n",
       "       [-0.55673758, -0.20203119,  0.85403589,  0.17562476, -0.22942266],\n",
       "       [ 1.00689996, -1.31561016,  0.51411142, -0.67042973, -0.31762815],\n",
       "       [-1.615088  ,  1.94839296, -1.19917728, -1.1767387 ,  0.51640518],\n",
       "       [-0.74451103,  1.04980427,  0.80536941, -0.22761697,  1.28481389]])"
      ]
     },
     "execution_count": 32,
     "metadata": {},
     "output_type": "execute_result"
    }
   ],
   "source": [
    "array3 = np.random.randn(25)\n",
    "array3 = array3.reshape(5,5)\n",
    "array3 # A 5x5 matrix with Gaussian distribution"
   ]
  },
  {
   "cell_type": "code",
   "execution_count": 33,
   "id": "9e0275e3",
   "metadata": {},
   "outputs": [
    {
     "data": {
      "text/plain": [
       "array([1.        , 1.21052632, 1.42105263, 1.63157895, 1.84210526,\n",
       "       2.05263158, 2.26315789, 2.47368421, 2.68421053, 2.89473684,\n",
       "       3.10526316, 3.31578947, 3.52631579, 3.73684211, 3.94736842,\n",
       "       4.15789474, 4.36842105, 4.57894737, 4.78947368, 5.        ])"
      ]
     },
     "execution_count": 33,
     "metadata": {},
     "output_type": "execute_result"
    }
   ],
   "source": [
    "array4 = np.linspace(1,5,20)\n",
    "array4 # The array formed by dividing the numbers 1 to 5 into 20 equal parts"
   ]
  },
  {
   "cell_type": "code",
   "execution_count": 34,
   "id": "27516244",
   "metadata": {},
   "outputs": [
    {
     "data": {
      "text/plain": [
       "array([[  1,   2,   3,   4,   5,   6,   7,   8,   9,  10],\n",
       "       [ 11,  12,  13,  14,  15,  16,  17,  18,  19,  20],\n",
       "       [ 21,  22,  23,  24,  25,  26,  27,  28,  29,  30],\n",
       "       [ 31,  32,  33,  34,  35,  36,  37,  38,  39,  40],\n",
       "       [ 41,  42,  43,  44,  45,  46,  47,  48,  49,  50],\n",
       "       [ 51,  52,  53,  54,  55,  56,  57,  58,  59,  60],\n",
       "       [ 61,  62,  63,  64,  65,  66,  67,  68,  69,  70],\n",
       "       [ 71,  72,  73,  74,  75,  76,  77,  78,  79,  80],\n",
       "       [ 81,  82,  83,  84,  85,  86,  87,  88,  89,  90],\n",
       "       [ 91,  92,  93,  94,  95,  96,  97,  98,  99, 100]])"
      ]
     },
     "execution_count": 34,
     "metadata": {},
     "output_type": "execute_result"
    }
   ],
   "source": [
    "array5 = np.arange(1,101).reshape(10,10)\n",
    "array5"
   ]
  },
  {
   "cell_type": "code",
   "execution_count": 36,
   "id": "765a88e1",
   "metadata": {},
   "outputs": [
    {
     "data": {
      "text/plain": [
       "array([[ 41,  42,  43,  44,  45,  46,  47,  48,  49,  50],\n",
       "       [ 51,  52,  53,  54,  55,  56,  57,  58,  59,  60],\n",
       "       [ 61,  62,  63,  64,  65,  66,  67,  68,  69,  70],\n",
       "       [ 71,  72,  73,  74,  75,  76,  77,  78,  79,  80],\n",
       "       [ 81,  82,  83,  84,  85,  86,  87,  88,  89,  90],\n",
       "       [ 91,  92,  93,  94,  95,  96,  97,  98,  99, 100]])"
      ]
     },
     "execution_count": 36,
     "metadata": {},
     "output_type": "execute_result"
    }
   ],
   "source": [
    "array5[4:, :]"
   ]
  },
  {
   "cell_type": "code",
   "execution_count": 37,
   "id": "2d6a98cc",
   "metadata": {},
   "outputs": [
    {
     "data": {
      "text/plain": [
       "array([[ 65,  66,  67,  68,  69,  70],\n",
       "       [ 75,  76,  77,  78,  79,  80],\n",
       "       [ 85,  86,  87,  88,  89,  90],\n",
       "       [ 95,  96,  97,  98,  99, 100]])"
      ]
     },
     "execution_count": 37,
     "metadata": {},
     "output_type": "execute_result"
    }
   ],
   "source": [
    "array5[6:, 4:]"
   ]
  },
  {
   "cell_type": "code",
   "execution_count": 38,
   "id": "04810e8e",
   "metadata": {},
   "outputs": [
    {
     "data": {
      "text/plain": [
       "array([[ 3,  4],\n",
       "       [13, 14],\n",
       "       [23, 24]])"
      ]
     },
     "execution_count": 38,
     "metadata": {},
     "output_type": "execute_result"
    }
   ],
   "source": [
    "array5[0:3, 2:4]"
   ]
  },
  {
   "cell_type": "code",
   "execution_count": 39,
   "id": "b05e39e4",
   "metadata": {},
   "outputs": [
    {
     "data": {
      "text/plain": [
       "array([ 2, 12, 22])"
      ]
     },
     "execution_count": 39,
     "metadata": {},
     "output_type": "execute_result"
    }
   ],
   "source": [
    "array5[:3, 1]"
   ]
  },
  {
   "cell_type": "code",
   "execution_count": 40,
   "id": "67336cd7",
   "metadata": {},
   "outputs": [
    {
     "data": {
      "text/plain": [
       "array([ 10,  20,  30,  40,  50,  60,  70,  80,  90, 100])"
      ]
     },
     "execution_count": 40,
     "metadata": {},
     "output_type": "execute_result"
    }
   ],
   "source": [
    "array5[:, -1]"
   ]
  },
  {
   "cell_type": "code",
   "execution_count": 41,
   "id": "0d7cb57c",
   "metadata": {},
   "outputs": [],
   "source": [
    "array6 = ((np.random.rand(9) * 5).astype(int)).reshape(3,3)\n",
    "array7 = ((np.random.rand(9) * 5).astype(int)).reshape(3,3)"
   ]
  },
  {
   "cell_type": "code",
   "execution_count": 42,
   "id": "2b833cca",
   "metadata": {},
   "outputs": [
    {
     "data": {
      "text/plain": [
       "array([[1, 4, 3],\n",
       "       [4, 0, 3],\n",
       "       [1, 1, 0]])"
      ]
     },
     "execution_count": 42,
     "metadata": {},
     "output_type": "execute_result"
    }
   ],
   "source": [
    "array6"
   ]
  },
  {
   "cell_type": "code",
   "execution_count": 43,
   "id": "0a8145d9",
   "metadata": {},
   "outputs": [
    {
     "data": {
      "text/plain": [
       "array([[0, 4, 0],\n",
       "       [2, 1, 1],\n",
       "       [2, 1, 0]])"
      ]
     },
     "execution_count": 43,
     "metadata": {},
     "output_type": "execute_result"
    }
   ],
   "source": [
    "array7"
   ]
  },
  {
   "cell_type": "code",
   "execution_count": 44,
   "id": "af44fb7b",
   "metadata": {},
   "outputs": [
    {
     "data": {
      "text/plain": [
       "array([[1, 8, 3],\n",
       "       [6, 1, 4],\n",
       "       [3, 2, 0]])"
      ]
     },
     "execution_count": 44,
     "metadata": {},
     "output_type": "execute_result"
    }
   ],
   "source": [
    "array6 + array7 # Sum of two matrix"
   ]
  },
  {
   "cell_type": "code",
   "execution_count": 45,
   "id": "6fe9e842",
   "metadata": {},
   "outputs": [
    {
     "data": {
      "text/plain": [
       "array([[ 0, 16,  0],\n",
       "       [ 8,  0,  3],\n",
       "       [ 2,  1,  0]])"
      ]
     },
     "execution_count": 45,
     "metadata": {},
     "output_type": "execute_result"
    }
   ],
   "source": [
    "array6 * array7 # Product of two matrix"
   ]
  },
  {
   "cell_type": "code",
   "execution_count": 46,
   "id": "c25e9f4c",
   "metadata": {},
   "outputs": [
    {
     "data": {
      "text/plain": [
       "1.8888888888888888"
      ]
     },
     "execution_count": 46,
     "metadata": {},
     "output_type": "execute_result"
    }
   ],
   "source": [
    "array6.mean() # Mean of elements of array6"
   ]
  },
  {
   "cell_type": "code",
   "execution_count": 47,
   "id": "21406cdc",
   "metadata": {},
   "outputs": [
    {
     "data": {
      "text/plain": [
       "11"
      ]
     },
     "execution_count": 47,
     "metadata": {},
     "output_type": "execute_result"
    }
   ],
   "source": [
    "array7.sum() # Sum of elements of array7"
   ]
  },
  {
   "cell_type": "code",
   "execution_count": null,
   "id": "6ab94f5e",
   "metadata": {},
   "outputs": [],
   "source": []
  }
 ],
 "metadata": {
  "kernelspec": {
   "display_name": "Python 3 (ipykernel)",
   "language": "python",
   "name": "python3"
  },
  "language_info": {
   "codemirror_mode": {
    "name": "ipython",
    "version": 3
   },
   "file_extension": ".py",
   "mimetype": "text/x-python",
   "name": "python",
   "nbconvert_exporter": "python",
   "pygments_lexer": "ipython3",
   "version": "3.9.13"
  }
 },
 "nbformat": 4,
 "nbformat_minor": 5
}
